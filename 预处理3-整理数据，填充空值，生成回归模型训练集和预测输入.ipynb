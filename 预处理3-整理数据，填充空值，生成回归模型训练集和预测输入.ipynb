{
 "cells": [
  {
   "cell_type": "code",
   "execution_count": 2,
   "metadata": {},
   "outputs": [],
   "source": [
    "import pandas as pd\n",
    "pd.set_option('display.max_columns', None)\n",
    "pd.set_option('display.max_rows', 10)\n",
    "pd.set_option('display.float_format', lambda x: '%.6f' % x) #为了直观的显示数字，不采用科学计数法\n",
    "import matplotlib.pyplot as plt\n",
    "# plt.rcParams['font.sans-serif'] = ['SimHei'] # 用来正常显示中文标签\n",
    "plt.rcParams['axes.unicode_minus'] = False # 用来正常显示负号\n",
    "import numpy as np\n",
    "np.set_printoptions(suppress = True)\n",
    "import scipy\n",
    "import os\n",
    "import math\n",
    "import time\n",
    "import random\n",
    "import joblib\n",
    "from joblib import Parallel, delayed\n",
    "import warnings\n",
    "from tqdm.notebook import tqdm\n",
    "from numba import jit\n",
    "\n",
    "from IPython.core.interactiveshell import InteractiveShell\n",
    "InteractiveShell.ast_node_interactivity = 'all'\n",
    "\n",
    "from chinese_calendar import is_workday, is_holiday\n",
    "\n",
    "import gc"
   ]
  },
  {
   "cell_type": "code",
   "execution_count": 2,
   "metadata": {},
   "outputs": [],
   "source": [
    "# cfg_data = {\n",
    "#     '4g': pd.read_csv('../compdata/4G5G_Data/Opt_Data/4g_cfg.csv', encoding='GBK', index_col='小区中文名'),\n",
    "#     '5g': pd.read_csv('../compdata/4G5G_Data/Opt_Data/5g_cfg_nrcell.csv', encoding='GBK', index_col='小区中文名')\n",
    "# }"
   ]
  },
  {
   "cell_type": "code",
   "execution_count": 3,
   "metadata": {},
   "outputs": [
    {
     "data": {
      "text/plain": [
       "['4g_PDCCH_AFE97F546A10368F_0',\n",
       " '4g_PDCPUL_AFE97F546A10368F_1',\n",
       " '4g_RRC_AFE97F546A10368F_2',\n",
       " '5g_PDCCH_AFE97F546A10368F_0',\n",
       " '5g_PDSCH_AFE97F546A10368F_0',\n",
       " '5g_PDCPDL_C48FDFBFC4072E0E_0',\n",
       " '5g_PDSCH_C48FDFBFC4072E0E_0',\n",
       " '5g_PDCPUL_C48FDFBFC4072E0E_0',\n",
       " '5g_PUSCH_F37F452354AC87C9_0',\n",
       " '4g_PUSCH_F37F452354AC87C9_0',\n",
       " '4g_PDCPDL_AFE97F546A10368F_2',\n",
       " '4g_RRC_AFE97F546A10368F_1',\n",
       " '5g_RRC_C48FDFBFC4072E0E_0',\n",
       " '5g_PDCCH_EA5EAA705108BDA0_0',\n",
       " '5g_PDSCH_EA5EAA705108BDA0_0',\n",
       " '4g_PDCCH_EA5EAA705108BDA0_0',\n",
       " '4g_PDSCH_EA5EAA705108BDA0_0',\n",
       " '4g_PDCCH_EA5EAA705108BDA0_1',\n",
       " '4g_PUSCH_C48FDFBFC4072E0E_2',\n",
       " '4g_PDCCH_C48FDFBFC4072E0E_2',\n",
       " '4g_PDCCH_F37F452354AC87C9_0',\n",
       " '5g_PDCCH_C48FDFBFC4072E0E_0',\n",
       " '5g_RRC_EA5EAA705108BDA0_0',\n",
       " '4g_RRC_EA5EAA705108BDA0_1',\n",
       " '4g_PDSCH_EA5EAA705108BDA0_1',\n",
       " '5g_PDCCH_F37F452354AC87C9_0',\n",
       " '4g_PDSCH_C48FDFBFC4072E0E_2',\n",
       " '4g_RRC_C48FDFBFC4072E0E_1',\n",
       " '4g_PDCPDL_F37F452354AC87C9_0',\n",
       " '4g_PDSCH_F37F452354AC87C9_0',\n",
       " '4g_PDCCH_AFE97F546A10368F_2',\n",
       " '4g_PUSCH_AFE97F546A10368F_1',\n",
       " '4g_PDCCH_AFE97F546A10368F_1',\n",
       " '5g_RRC_AFE97F546A10368F_0',\n",
       " '5g_PDCPUL_AFE97F546A10368F_0',\n",
       " '4g_PDCPDL_C48FDFBFC4072E0E_2',\n",
       " '4g_PDCCH_C48FDFBFC4072E0E_1',\n",
       " '4g_PDSCH_C48FDFBFC4072E0E_0',\n",
       " '4g_RRC_F37F452354AC87C9_0',\n",
       " '4g_PUSCH_AFE97F546A10368F_0',\n",
       " '4g_PDCPUL_EA5EAA705108BDA0_0',\n",
       " '4g_PUSCH_EA5EAA705108BDA0_0',\n",
       " '5g_PDCPDL_F37F452354AC87C9_0',\n",
       " '4g_PDCPDL_C48FDFBFC4072E0E_0',\n",
       " '4g_PDSCH_AFE97F546A10368F_0',\n",
       " '4g_PUSCH_AFE97F546A10368F_2',\n",
       " '4g_PDCPUL_AFE97F546A10368F_2',\n",
       " '5g_PUSCH_EA5EAA705108BDA0_0',\n",
       " '4g_PUSCH_C48FDFBFC4072E0E_0',\n",
       " '4g_PDCPUL_C48FDFBFC4072E0E_1',\n",
       " '4g_RRC_AFE97F546A10368F_0',\n",
       " '4g_PDCPDL_AFE97F546A10368F_1',\n",
       " '4g_PDSCH_AFE97F546A10368F_2',\n",
       " '5g_PDCPDL_AFE97F546A10368F_0',\n",
       " '5g_PDCPUL_EA5EAA705108BDA0_0',\n",
       " '4g_PDCPDL_AFE97F546A10368F_0',\n",
       " '4g_PDSCH_AFE97F546A10368F_1',\n",
       " '5g_PUSCH_AFE97F546A10368F_0',\n",
       " '4g_RRC_C48FDFBFC4072E0E_0',\n",
       " '4g_PDCPUL_F37F452354AC87C9_0',\n",
       " '5g_PDCPDL_EA5EAA705108BDA0_0',\n",
       " '4g_PDCPUL_EA5EAA705108BDA0_1',\n",
       " '4g_PDCPDL_EA5EAA705108BDA0_0',\n",
       " '5g_PDSCH_F37F452354AC87C9_0',\n",
       " '4g_PDCCH_C48FDFBFC4072E0E_0',\n",
       " '4g_PDSCH_C48FDFBFC4072E0E_1',\n",
       " '5g_PUSCH_C48FDFBFC4072E0E_0',\n",
       " '4g_PDCPDL_EA5EAA705108BDA0_1',\n",
       " '4g_RRC_EA5EAA705108BDA0_0',\n",
       " '5g_PDCPUL_F37F452354AC87C9_0',\n",
       " '5g_RRC_F37F452354AC87C9_0',\n",
       " '4g_PDCPUL_AFE97F546A10368F_0',\n",
       " '4g_PUSCH_EA5EAA705108BDA0_1',\n",
       " '4g_PUSCH_C48FDFBFC4072E0E_1',\n",
       " '4g_PDCPUL_C48FDFBFC4072E0E_0',\n",
       " '4g_RRC_C48FDFBFC4072E0E_2',\n",
       " '4g_PDCPUL_C48FDFBFC4072E0E_2',\n",
       " '4g_PDCPDL_C48FDFBFC4072E0E_1']"
      ]
     },
     "execution_count": 3,
     "metadata": {},
     "output_type": "execute_result"
    }
   ],
   "source": [
    "tmp_folder = 'preprocessed_data/tmp/'\n",
    "folders = os.listdir(tmp_folder)\n",
    "folders"
   ]
  },
  {
   "cell_type": "code",
   "execution_count": 4,
   "metadata": {},
   "outputs": [],
   "source": [
    "input_time = pd.Timedelta(days=21)\n",
    "output_time = pd.Timedelta(days=7)\n",
    "predict_output_start = pd.Timestamp('2021-07-01')\n",
    "predict_input_start = pd.Timestamp('2021-06-10')\n",
    "train_input_starts = pd.Series(pd.date_range(start='2021-03-01', end='2021-06-03', freq='D'))\n",
    "freq = pd.Timedelta(hours = 1)"
   ]
  },
  {
   "cell_type": "code",
   "execution_count": 5,
   "metadata": {},
   "outputs": [
    {
     "data": {
      "text/plain": [
       "(95,)"
      ]
     },
     "execution_count": 5,
     "metadata": {},
     "output_type": "execute_result"
    }
   ],
   "source": [
    "train_input_starts.shape"
   ]
  },
  {
   "cell_type": "code",
   "execution_count": 6,
   "metadata": {},
   "outputs": [],
   "source": [
    "@jit(nopython=True)\n",
    "def fill_value(kpi_col: np.array, i: int, seasonal_period: int, size:int):\n",
    "    seasonal_kpi_sum = 0\n",
    "    count = 0\n",
    "    for j in range(-i // seasonal_period + 1, (size-i-1) // seasonal_period + 1):\n",
    "        seasonal_kpi = kpi_col[i + seasonal_period*j]\n",
    "        if not np.isnan(seasonal_kpi):\n",
    "            seasonal_kpi_sum += seasonal_kpi / abs(j)\n",
    "            count += 1 / abs(j)\n",
    "    if count != 0:\n",
    "        return seasonal_kpi_sum / count\n",
    "    else:\n",
    "        return np.nan\n",
    "@jit(nopython=True)\n",
    "def fill_na_multiseasonal(kpi_col: np.array, seasonal_periods: np.array):\n",
    "    '''\n",
    "    一个自己写的针对周期性时序数据的空值填充算法：对每个空值，首先尝试对所有与该空值间隔为整数个周期的非空数据做加权平均（权重为间隔\n",
    "    的周期数的倒数）作为填充值；若失败（即没有与该空值间隔为整数个seasonal_period的非空数据），则填充数据的整体平均值。\n",
    "    支持输入按优先级排序的多种周期。\n",
    "    '''\n",
    "    size = len(kpi_col)\n",
    "    ret = kpi_col.copy()\n",
    "    mean = np.nanmean(kpi_col)\n",
    "    for i in range(size):\n",
    "        if np.isnan(kpi_col[i]):\n",
    "            for seasonal_period in seasonal_periods:\n",
    "                fill = fill_value(kpi_col, i, seasonal_period, size)\n",
    "                if not np.isnan(fill):\n",
    "                    ret[i] = fill\n",
    "                    break\n",
    "            if np.isnan(ret[i]):\n",
    "                ret[i] = mean\n",
    "    return ret"
   ]
  },
  {
   "cell_type": "code",
   "execution_count": 7,
   "metadata": {},
   "outputs": [
    {
     "data": {
      "text/html": [
       "<div>\n",
       "<style scoped>\n",
       "    .dataframe tbody tr th:only-of-type {\n",
       "        vertical-align: middle;\n",
       "    }\n",
       "\n",
       "    .dataframe tbody tr th {\n",
       "        vertical-align: top;\n",
       "    }\n",
       "\n",
       "    .dataframe thead th {\n",
       "        text-align: right;\n",
       "    }\n",
       "</style>\n",
       "<table border=\"1\" class=\"dataframe\">\n",
       "  <thead>\n",
       "    <tr style=\"text-align: right;\">\n",
       "      <th></th>\n",
       "    </tr>\n",
       "  </thead>\n",
       "  <tbody>\n",
       "    <tr>\n",
       "      <th>2021-01-01 00:00:00</th>\n",
       "    </tr>\n",
       "    <tr>\n",
       "      <th>2021-01-01 01:00:00</th>\n",
       "    </tr>\n",
       "    <tr>\n",
       "      <th>2021-01-01 02:00:00</th>\n",
       "    </tr>\n",
       "    <tr>\n",
       "      <th>2021-01-01 03:00:00</th>\n",
       "    </tr>\n",
       "    <tr>\n",
       "      <th>2021-01-01 04:00:00</th>\n",
       "    </tr>\n",
       "    <tr>\n",
       "      <th>...</th>\n",
       "    </tr>\n",
       "    <tr>\n",
       "      <th>2021-01-03 19:00:00</th>\n",
       "    </tr>\n",
       "    <tr>\n",
       "      <th>2021-01-03 20:00:00</th>\n",
       "    </tr>\n",
       "    <tr>\n",
       "      <th>2021-01-03 21:00:00</th>\n",
       "    </tr>\n",
       "    <tr>\n",
       "      <th>2021-01-03 22:00:00</th>\n",
       "    </tr>\n",
       "    <tr>\n",
       "      <th>2021-01-03 23:00:00</th>\n",
       "    </tr>\n",
       "  </tbody>\n",
       "</table>\n",
       "<p>72 rows × 0 columns</p>\n",
       "</div>"
      ],
      "text/plain": [
       "Empty DataFrame\n",
       "Columns: []\n",
       "Index: [2021-01-01 00:00:00, 2021-01-01 01:00:00, 2021-01-01 02:00:00, 2021-01-01 03:00:00, 2021-01-01 04:00:00, 2021-01-01 05:00:00, 2021-01-01 06:00:00, 2021-01-01 07:00:00, 2021-01-01 08:00:00, 2021-01-01 09:00:00, 2021-01-01 10:00:00, 2021-01-01 11:00:00, 2021-01-01 12:00:00, 2021-01-01 13:00:00, 2021-01-01 14:00:00, 2021-01-01 15:00:00, 2021-01-01 16:00:00, 2021-01-01 17:00:00, 2021-01-01 18:00:00, 2021-01-01 19:00:00, 2021-01-01 20:00:00, 2021-01-01 21:00:00, 2021-01-01 22:00:00, 2021-01-01 23:00:00, 2021-01-02 00:00:00, 2021-01-02 01:00:00, 2021-01-02 02:00:00, 2021-01-02 03:00:00, 2021-01-02 04:00:00, 2021-01-02 05:00:00, 2021-01-02 06:00:00, 2021-01-02 07:00:00, 2021-01-02 08:00:00, 2021-01-02 09:00:00, 2021-01-02 10:00:00, 2021-01-02 11:00:00, 2021-01-02 12:00:00, 2021-01-02 13:00:00, 2021-01-02 14:00:00, 2021-01-02 15:00:00, 2021-01-02 16:00:00, 2021-01-02 17:00:00, 2021-01-02 18:00:00, 2021-01-02 19:00:00, 2021-01-02 20:00:00, 2021-01-02 21:00:00, 2021-01-02 22:00:00, 2021-01-02 23:00:00, 2021-01-03 00:00:00, 2021-01-03 01:00:00, 2021-01-03 02:00:00, 2021-01-03 03:00:00, 2021-01-03 04:00:00, 2021-01-03 05:00:00, 2021-01-03 06:00:00, 2021-01-03 07:00:00, 2021-01-03 08:00:00, 2021-01-03 09:00:00, 2021-01-03 10:00:00, 2021-01-03 11:00:00, 2021-01-03 12:00:00, 2021-01-03 13:00:00, 2021-01-03 14:00:00, 2021-01-03 15:00:00, 2021-01-03 16:00:00, 2021-01-03 17:00:00, 2021-01-03 18:00:00, 2021-01-03 19:00:00, 2021-01-03 20:00:00, 2021-01-03 21:00:00, 2021-01-03 22:00:00, 2021-01-03 23:00:00]\n",
       "\n",
       "[72 rows x 0 columns]"
      ]
     },
     "execution_count": 7,
     "metadata": {},
     "output_type": "execute_result"
    }
   ],
   "source": [
    "pd.DataFrame(index=pd.date_range(start='2021-01-01', end='2021-01-25', freq='H'))[pd.Timestamp('2021-01-01') : pd.Timestamp('2021-01-03 23:00')]"
   ]
  },
  {
   "cell_type": "code",
   "execution_count": 8,
   "metadata": {},
   "outputs": [],
   "source": [
    "def preprocess_group(group_index, group_data):\n",
    "    group_data = group_data.set_index(['TimeStamp']).resample(freq).mean().astype(np.float32)\\\n",
    "    .reindex(pd.date_range(start='2021-03-01', end='2021-06-30 23:00', freq=pd.Timedelta(hours=1)))\n",
    "    group_data[group_data == 0.] = np.nan\n",
    "    group_data.iloc[:, 0] = fill_na_multiseasonal(group_data.values.flatten(), np.array([24*7, 24]))\n",
    "    sample_train_input_starts = train_input_starts.sample(30)\n",
    "    \n",
    "    regression_train_data = pd.DataFrame(\n",
    "        index = sample_train_input_starts,\n",
    "        columns = ['is_holiday_%s' % i for i in range(28)] + ['input_%s' % i for i in range(24 * 21)] + ['output_%s' % i for i in range(24 * 7)],\n",
    "        dtype = np.float32\n",
    "    )\n",
    "    regression_predict_input = pd.DataFrame(\n",
    "        index = [group_index],\n",
    "        columns = ['is_holiday_%s' % i for i in range(28)] + ['input_%s' % i for i in range(24 * 21)],\n",
    "        dtype = np.float32\n",
    "    )\n",
    "    \n",
    "#     关联工参中覆盖类型和覆盖场景\n",
    "    \n",
    "    for cfg_col in ['经度', '纬度', '覆盖类型', '覆盖场景']:\n",
    "        try:\n",
    "            regression_train_data.loc[:, cfg_col] = cfg_data[base_type].loc[group_index, cfg_col]\n",
    "            regression_predict_input.loc[:, cfg_col] = cfg_data[base_type].loc[group_index, cfg_col]\n",
    "        except Exception as e:\n",
    "            pass\n",
    "    for i in range(28):\n",
    "        regression_train_data['is_holiday_%s' % i] = pd.Series(regression_train_data.index).apply(lambda x: is_holiday(x + pd.Timedelta(days=i))).values\n",
    "        regression_predict_input.loc[:, 'is_holiday_%s' % i] = is_holiday(predict_input_start + pd.Timedelta(days=i))\n",
    "    for train_input_start in sample_train_input_starts:\n",
    "        regression_train_data.loc[train_input_start, ['input_%s' % i for i in range(24 * 21)]] = group_data[\n",
    "            train_input_start : train_input_start + pd.Timedelta(days=21) - freq].values.flatten()\n",
    "        regression_train_data.loc[train_input_start, ['output_%s' % i for i in range(24 * 7)]] = group_data[\n",
    "            train_input_start + pd.Timedelta(days=21) : train_input_start + pd.Timedelta(days=28) - freq].values.flatten()\n",
    "    regression_predict_input[['input_%s' % i for i in range(24 * 21)]] = group_data[\n",
    "            predict_input_start : predict_input_start + pd.Timedelta(days=21) - freq].values.flatten()\n",
    "    return regression_train_data.astype(np.float32), regression_predict_input.astype(np.float32)\n",
    "\n",
    "def preprocess(folder):\n",
    "    files = os.listdir(tmp_folder + folder)\n",
    "    files = list(filter(lambda x: x[-3:] == 'pkl', files))\n",
    "    data = pd.concat([pd.read_pickle(os.path.join(tmp_folder, folder, file)) for file in files])\n",
    "#     data = data[data.UserLabel.isin(data.UserLabel.drop_duplicates().sample(3))] # 只取3个小区用于测试\n",
    "    global base_type\n",
    "    base_type = folder[:2]\n",
    "    result = Parallel(n_jobs=8)(delayed(preprocess_group)(group_index, group_data) for group_index, group_data in data.groupby('UserLabel'))\n",
    "    del data; gc.collect()\n",
    "    all_regression_train_data, all_regression_predict_inputs = list(zip(*result))\n",
    "    all_regression_train_data = pd.concat(all_regression_train_data)\n",
    "    all_regression_predict_inputs = pd.concat(all_regression_predict_inputs)\n",
    "    all_regression_train_data.to_pickle(os.path.join(tmp_folder, folder, 'regression_train_data.pkl'))\n",
    "    all_regression_predict_inputs.to_pickle(os.path.join(tmp_folder, folder, 'regression_predict_inputs.pkl'))\n",
    "    del all_regression_train_data, all_regression_predict_inputs; gc.collect()\n",
    "    for file in files:\n",
    "        if file in ['regression_train_data.pkl', 'regression_predict_inputs.pkl']:\n",
    "            continue\n",
    "        os.remove(os.path.join(tmp_folder, folder, file))"
   ]
  },
  {
   "cell_type": "code",
   "execution_count": 9,
   "metadata": {},
   "outputs": [],
   "source": [
    "# test_folder = '5g_PUSCH_F37F452354AC87C9_0'\n",
    "# preprocess(test_folder)\n",
    "# pd.read_pickle(os.path.join(tmp_folder, test_folder, 'regression_train_data.pkl'))\n",
    "# pd.read_pickle(os.path.join(tmp_folder, test_folder, 'regression_predict_inputs.pkl'))"
   ]
  },
  {
   "cell_type": "code",
   "execution_count": 11,
   "metadata": {},
   "outputs": [
    {
     "data": {
      "application/vnd.jupyter.widget-view+json": {
       "model_id": "856298192f2749c797805c2d336dc4ac",
       "version_major": 2,
       "version_minor": 0
      },
      "text/plain": [
       "HBox(children=(FloatProgress(value=0.0, max=5.0), HTML(value='')))"
      ]
     },
     "metadata": {},
     "output_type": "display_data"
    },
    {
     "name": "stdout",
     "output_type": "stream",
     "text": [
      "\n"
     ]
    }
   ],
   "source": [
    "for folder in tqdm(folders[0:13]):\n",
    "    preprocess(folder)"
   ]
  },
  {
   "cell_type": "markdown",
   "metadata": {},
   "source": [
    "---"
   ]
  },
  {
   "cell_type": "code",
   "execution_count": 4,
   "metadata": {},
   "outputs": [
    {
     "name": "stdout",
     "output_type": "stream",
     "text": [
      "[0, 1, 2, 3, 4, 5, 6, 7, 8, 9, 10, 11, 12, 13, 14, 15, 16, 17, 18, 19, 20, 21, 22, 23, 24, 25, 26, 27, 28, 29, 30, 31, 32, 33, 34, 35, 36, 37, 38, 39, 40, 41, 42, 43, 44, 45, 46, 47, 48, 49, 50, 51, 52, 53, 54, 55, 56, 57, 58, 59, 60, 61, 62, 63, 64, 65, 66, 67, 68, 69, 70, 71, 72, 73, 74, 75, 76, 77] []\n"
     ]
    }
   ],
   "source": [
    "processed, unprocessed = [], []\n",
    "for index, folder in enumerate(folders):\n",
    "    files = os.listdir(os.path.join(tmp_folder, folder))\n",
    "    if 'regression_predict_inputs.pkl' in files and len(files) <= 3:\n",
    "        processed.append(index)\n",
    "    else:\n",
    "        unprocessed.append(index)\n",
    "print(processed, unprocessed)"
   ]
  },
  {
   "cell_type": "code",
   "execution_count": null,
   "metadata": {},
   "outputs": [],
   "source": []
  }
 ],
 "metadata": {
  "kernelspec": {
   "display_name": "Python 3",
   "language": "python",
   "name": "python3"
  },
  "language_info": {
   "codemirror_mode": {
    "name": "ipython",
    "version": 3
   },
   "file_extension": ".py",
   "mimetype": "text/x-python",
   "name": "python",
   "nbconvert_exporter": "python",
   "pygments_lexer": "ipython3",
   "version": "3.6.9"
  }
 },
 "nbformat": 4,
 "nbformat_minor": 4
}
